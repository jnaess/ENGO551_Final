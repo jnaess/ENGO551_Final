{
 "cells": [
  {
   "cell_type": "code",
   "execution_count": 5,
   "metadata": {},
   "outputs": [
    {
     "data": {
      "text/plain": [
       "{'coord': {'lon': -114.0719, 'lat': 51.0447},\n",
       " 'weather': [{'id': 804,\n",
       "   'main': 'Clouds',\n",
       "   'description': 'overcast clouds',\n",
       "   'icon': '04d'}],\n",
       " 'base': 'stations',\n",
       " 'main': {'temp': 274.57,\n",
       "  'feels_like': 271.74,\n",
       "  'temp_min': 272.59,\n",
       "  'temp_max': 276.39,\n",
       "  'pressure': 1019,\n",
       "  'humidity': 67},\n",
       " 'visibility': 10000,\n",
       " 'wind': {'speed': 2.57, 'deg': 160, 'gust': 7.72},\n",
       " 'clouds': {'all': 100},\n",
       " 'dt': 1648229869,\n",
       " 'sys': {'type': 2,\n",
       "  'id': 2036807,\n",
       "  'country': 'CA',\n",
       "  'sunrise': 1648214841,\n",
       "  'sunset': 1648259815},\n",
       " 'timezone': -21600,\n",
       " 'id': 5913490,\n",
       " 'name': 'Calgary',\n",
       " 'cod': 200}"
      ]
     },
     "execution_count": 5,
     "metadata": {},
     "output_type": "execute_result"
    }
   ],
   "source": [
    "import requests\n",
    "\n",
    "lat = 51.0447\n",
    "lon = -114.0719\n",
    "key = \"9a73084d2a98c0a030fb47a70a83c69c\"\n",
    "\n",
    "link = f\"https://api.openweathermap.org/data/2.5/weather?lat={lat}&lon={lon}&appid={key}\"\n",
    "res = requests.get(link)\n",
    "dic = res.json()\n",
    "dic"
   ]
  },
  {
   "cell_type": "code",
   "execution_count": 4,
   "metadata": {},
   "outputs": [
    {
     "data": {
      "text/plain": [
       "'https://api.openweathermap.org/data/2.5/weather?lat=51.0447&lon=-114.0719&appid=9a73084d2a98c0a030fb47a70a83c69c'"
      ]
     },
     "execution_count": 4,
     "metadata": {},
     "output_type": "execute_result"
    }
   ],
   "source": [
    "link"
   ]
  },
  {
   "cell_type": "code",
   "execution_count": 4,
   "metadata": {},
   "outputs": [
    {
     "data": {
      "text/plain": [
       "'2001'"
      ]
     },
     "execution_count": 4,
     "metadata": {},
     "output_type": "execute_result"
    }
   ],
   "source": []
  },
  {
   "cell_type": "code",
   "execution_count": 5,
   "metadata": {},
   "outputs": [
    {
     "data": {
      "text/plain": [
       "'Four Blondes'"
      ]
     },
     "execution_count": 5,
     "metadata": {},
     "output_type": "execute_result"
    }
   ],
   "source": []
  },
  {
   "cell_type": "code",
   "execution_count": 6,
   "metadata": {},
   "outputs": [
    {
     "data": {
      "text/plain": [
       "'Candace Bushnell'"
      ]
     },
     "execution_count": 6,
     "metadata": {},
     "output_type": "execute_result"
    }
   ],
   "source": []
  },
  {
   "cell_type": "code",
   "execution_count": null,
   "metadata": {},
   "outputs": [],
   "source": []
  }
 ],
 "metadata": {
  "kernelspec": {
   "display_name": "Python 3",
   "language": "python",
   "name": "python3"
  },
  "language_info": {
   "codemirror_mode": {
    "name": "ipython",
    "version": 3
   },
   "file_extension": ".py",
   "mimetype": "text/x-python",
   "name": "python",
   "nbconvert_exporter": "python",
   "pygments_lexer": "ipython3",
   "version": "3.8.5"
  }
 },
 "nbformat": 4,
 "nbformat_minor": 4
}
