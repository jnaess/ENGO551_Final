{
 "cells": [
  {
   "cell_type": "code",
   "execution_count": 1,
   "id": "43ce733a-4c84-4040-ac31-31567a08d4b8",
   "metadata": {},
   "outputs": [],
   "source": [
    "from databaseManager import DatabaseManager\n",
    "\n",
    "db = DatabaseManager()"
   ]
  },
  {
   "cell_type": "code",
   "execution_count": 31,
   "id": "e8840c04-a452-42a1-a85c-6c9a3084f509",
   "metadata": {},
   "outputs": [],
   "source": [
    "import shapely.geometry as sg\n",
    "import json\n",
    "\n",
    "df = db.fields_all()\n",
    "\n",
    "test2 = df.geometry[0]\n",
    "res = test2.replace('(','').replace(')','').split(',')\n",
    "\n",
    "coords = []\n",
    "for i in range(0,len(res),2):\n",
    "    coords.append((float(res[i+1]),float(res[i])))\n",
    "final = tuple(coords)\n",
    "\n",
    "df[\"geometry\"] = [sg.Polygon(final)]"
   ]
  },
  {
   "cell_type": "code",
   "execution_count": 32,
   "id": "244b887a-d45e-4668-97f3-7c2233b7a436",
   "metadata": {},
   "outputs": [],
   "source": [
    "from geopandas import GeoDataFrame\n",
    "\n"
   ]
  },
  {
   "cell_type": "code",
   "execution_count": 35,
   "id": "51a2e4bf-7f2f-4765-af4f-1f6052a9c61c",
   "metadata": {},
   "outputs": [
    {
     "data": {
      "text/plain": [
       "0"
      ]
     },
     "execution_count": 35,
     "metadata": {},
     "output_type": "execute_result"
    }
   ],
   "source": [
    "df.index[-1]"
   ]
  },
  {
   "cell_type": "code",
   "execution_count": 48,
   "id": "0938b7de-4d33-4b14-9138-4973089f632c",
   "metadata": {},
   "outputs": [
    {
     "data": {
      "text/plain": [
       "0     test3\n",
       "1    test 4\n",
       "Name: name, dtype: object"
      ]
     },
     "execution_count": 48,
     "metadata": {},
     "output_type": "execute_result"
    }
   ],
   "source": [
    "from databaseManager import DatabaseManager\n",
    "\n",
    "db = DatabaseManager()\n",
    "\n",
    "assets = db.select_all(\"assets\")\n",
    "\n",
    "assets[\"name\"]"
   ]
  },
  {
   "cell_type": "code",
   "execution_count": 49,
   "id": "cf8f04b0-52f5-47b1-adb2-f0c669d05f8b",
   "metadata": {},
   "outputs": [
    {
     "name": "stdout",
     "output_type": "stream",
     "text": [
      "test3\n",
      "test 4\n"
     ]
    }
   ],
   "source": [
    "for i, asset in assets.iterrows():\n",
    "    print(asset[\"name\"])"
   ]
  },
  {
   "cell_type": "code",
   "execution_count": null,
   "id": "3e55d359-a0f9-488f-8244-51de2e687f03",
   "metadata": {},
   "outputs": [],
   "source": []
  }
 ],
 "metadata": {
  "kernelspec": {
   "display_name": "Python 3 (ipykernel)",
   "language": "python",
   "name": "python3"
  },
  "language_info": {
   "codemirror_mode": {
    "name": "ipython",
    "version": 3
   },
   "file_extension": ".py",
   "mimetype": "text/x-python",
   "name": "python",
   "nbconvert_exporter": "python",
   "pygments_lexer": "ipython3",
   "version": "3.8.12"
  }
 },
 "nbformat": 4,
 "nbformat_minor": 5
}
