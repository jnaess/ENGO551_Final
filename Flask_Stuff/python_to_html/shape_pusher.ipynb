{
 "cells": [
  {
   "cell_type": "code",
   "execution_count": 6,
   "id": "ef8d3395-6ef9-42b5-bb70-baddf443ac32",
   "metadata": {},
   "outputs": [],
   "source": [
    "import warnings; warnings.filterwarnings(action='ignore')\n",
    "from matplotlib import pyplot as plt\n",
    "%matplotlib inline\n",
    "import geopandas as gpd\n",
    "\n",
    "from shapely.geometry import LineString, mapping\n",
    "\n",
    "def point_to_linestring(points):\n",
    "    gdf = gpd.read_file(fili_shps) #POINTS\n",
    "    latlon = [mapping(x)['coordinates'] for x in gdf.geometry]\n",
    "    lats = [x[1] for x in latlon]\n",
    "    lons = [x[0] for x in latlon]\n",
    "    linestr = LineString(zip(lons, lats))\n",
    "    return gpd.GeoDataFrame(index=[0], crs=gdf.crs, geometry=[linestr])"
   ]
  },
  {
   "cell_type": "code",
   "execution_count": 17,
   "id": "983478b2-ea7b-466f-862f-35f089d57ce8",
   "metadata": {},
   "outputs": [
    {
     "ename": "ValueError",
     "evalue": "DataFrame constructor not properly called!",
     "output_type": "error",
     "traceback": [
      "\u001b[1;31m---------------------------------------------------------------------------\u001b[0m",
      "\u001b[1;31mValueError\u001b[0m                                Traceback (most recent call last)",
      "Input \u001b[1;32mIn [17]\u001b[0m, in \u001b[0;36m<cell line: 2>\u001b[1;34m()\u001b[0m\n\u001b[0;32m      1\u001b[0m field \u001b[38;5;241m=\u001b[39m [(\u001b[38;5;241m-\u001b[39m\u001b[38;5;241m114.31092\u001b[39m,\u001b[38;5;241m51.172859\u001b[39m),(\u001b[38;5;241m-\u001b[39m\u001b[38;5;241m114.31092\u001b[39m,\u001b[38;5;241m51.170787\u001b[39m),(\u001b[38;5;241m-\u001b[39m\u001b[38;5;241m114.304461\u001b[39m,\u001b[38;5;241m51.170787\u001b[39m),(\u001b[38;5;241m-\u001b[39m\u001b[38;5;241m114.304461\u001b[39m,\u001b[38;5;241m51.172859\u001b[39m)]\n\u001b[1;32m----> 2\u001b[0m \u001b[43mgpd\u001b[49m\u001b[38;5;241;43m.\u001b[39;49m\u001b[43mGeoDataFrame\u001b[49m\u001b[43m(\u001b[49m\u001b[43mLineString\u001b[49m\u001b[43m(\u001b[49m\u001b[43mfield\u001b[49m\u001b[43m)\u001b[49m\u001b[43m)\u001b[49m\n",
      "File \u001b[1;32m~\\Anaconda3\\envs\\capstone\\lib\\site-packages\\geopandas\\geodataframe.py:105\u001b[0m, in \u001b[0;36mGeoDataFrame.__init__\u001b[1;34m(self, geometry, crs, *args, **kwargs)\u001b[0m\n\u001b[0;32m    103\u001b[0m \u001b[38;5;28;01mdef\u001b[39;00m \u001b[38;5;21m__init__\u001b[39m(\u001b[38;5;28mself\u001b[39m, \u001b[38;5;241m*\u001b[39margs, geometry\u001b[38;5;241m=\u001b[39m\u001b[38;5;28;01mNone\u001b[39;00m, crs\u001b[38;5;241m=\u001b[39m\u001b[38;5;28;01mNone\u001b[39;00m, \u001b[38;5;241m*\u001b[39m\u001b[38;5;241m*\u001b[39mkwargs):\n\u001b[0;32m    104\u001b[0m     \u001b[38;5;28;01mwith\u001b[39;00m compat\u001b[38;5;241m.\u001b[39mignore_shapely2_warnings():\n\u001b[1;32m--> 105\u001b[0m         \u001b[38;5;28;43msuper\u001b[39;49m\u001b[43m(\u001b[49m\u001b[43mGeoDataFrame\u001b[49m\u001b[43m,\u001b[49m\u001b[43m \u001b[49m\u001b[38;5;28;43mself\u001b[39;49m\u001b[43m)\u001b[49m\u001b[38;5;241;43m.\u001b[39;49m\u001b[38;5;21;43m__init__\u001b[39;49m\u001b[43m(\u001b[49m\u001b[38;5;241;43m*\u001b[39;49m\u001b[43margs\u001b[49m\u001b[43m,\u001b[49m\u001b[43m \u001b[49m\u001b[38;5;241;43m*\u001b[39;49m\u001b[38;5;241;43m*\u001b[39;49m\u001b[43mkwargs\u001b[49m\u001b[43m)\u001b[49m\n\u001b[0;32m    107\u001b[0m     \u001b[38;5;66;03m# need to set this before calling self['geometry'], because\u001b[39;00m\n\u001b[0;32m    108\u001b[0m     \u001b[38;5;66;03m# getitem accesses crs\u001b[39;00m\n\u001b[0;32m    109\u001b[0m     \u001b[38;5;28mself\u001b[39m\u001b[38;5;241m.\u001b[39m_crs \u001b[38;5;241m=\u001b[39m CRS\u001b[38;5;241m.\u001b[39mfrom_user_input(crs) \u001b[38;5;28;01mif\u001b[39;00m crs \u001b[38;5;28;01melse\u001b[39;00m \u001b[38;5;28;01mNone\u001b[39;00m\n",
      "File \u001b[1;32m~\\Anaconda3\\envs\\capstone\\lib\\site-packages\\pandas\\core\\frame.py:756\u001b[0m, in \u001b[0;36mDataFrame.__init__\u001b[1;34m(self, data, index, columns, dtype, copy)\u001b[0m\n\u001b[0;32m    753\u001b[0m \u001b[38;5;66;03m# For data is scalar\u001b[39;00m\n\u001b[0;32m    754\u001b[0m \u001b[38;5;28;01melse\u001b[39;00m:\n\u001b[0;32m    755\u001b[0m     \u001b[38;5;28;01mif\u001b[39;00m index \u001b[38;5;129;01mis\u001b[39;00m \u001b[38;5;28;01mNone\u001b[39;00m \u001b[38;5;129;01mor\u001b[39;00m columns \u001b[38;5;129;01mis\u001b[39;00m \u001b[38;5;28;01mNone\u001b[39;00m:\n\u001b[1;32m--> 756\u001b[0m         \u001b[38;5;28;01mraise\u001b[39;00m \u001b[38;5;167;01mValueError\u001b[39;00m(\u001b[38;5;124m\"\u001b[39m\u001b[38;5;124mDataFrame constructor not properly called!\u001b[39m\u001b[38;5;124m\"\u001b[39m)\n\u001b[0;32m    758\u001b[0m     \u001b[38;5;66;03m# Argument 1 to \"ensure_index\" has incompatible type \"Collection[Any]\";\u001b[39;00m\n\u001b[0;32m    759\u001b[0m     \u001b[38;5;66;03m# expected \"Union[Union[Union[ExtensionArray, ndarray],\u001b[39;00m\n\u001b[0;32m    760\u001b[0m     \u001b[38;5;66;03m# Index, Series], Sequence[Any]]\"\u001b[39;00m\n\u001b[0;32m    761\u001b[0m     index \u001b[38;5;241m=\u001b[39m ensure_index(index)  \u001b[38;5;66;03m# type: ignore[arg-type]\u001b[39;00m\n",
      "\u001b[1;31mValueError\u001b[0m: DataFrame constructor not properly called!"
     ]
    }
   ],
   "source": [
    "field = [(-114.31092,51.172859),(-114.31092,51.170787),(-114.304461,51.170787),(-114.304461,51.172859)]\n",
    "gpd.GeoDataFrame(LineString(field))"
   ]
  },
  {
   "cell_type": "code",
   "execution_count": 2,
   "id": "72e5bc25-c3f5-494f-946c-e143ab734a35",
   "metadata": {},
   "outputs": [
    {
     "data": {
      "text/html": [
       "<div>\n",
       "<style scoped>\n",
       "    .dataframe tbody tr th:only-of-type {\n",
       "        vertical-align: middle;\n",
       "    }\n",
       "\n",
       "    .dataframe tbody tr th {\n",
       "        vertical-align: top;\n",
       "    }\n",
       "\n",
       "    .dataframe thead th {\n",
       "        text-align: right;\n",
       "    }\n",
       "</style>\n",
       "<table border=\"1\" class=\"dataframe\">\n",
       "  <thead>\n",
       "    <tr style=\"text-align: right;\">\n",
       "      <th></th>\n",
       "      <th>Lat</th>\n",
       "      <th>Lon</th>\n",
       "      <th>geometry</th>\n",
       "    </tr>\n",
       "  </thead>\n",
       "  <tbody>\n",
       "    <tr>\n",
       "      <th>0</th>\n",
       "      <td>40.058841</td>\n",
       "      <td>-75.042164</td>\n",
       "      <td>POINT (-75.04216 40.05884)</td>\n",
       "    </tr>\n",
       "    <tr>\n",
       "      <th>1</th>\n",
       "      <td>40.202162</td>\n",
       "      <td>-74.924594</td>\n",
       "      <td>POINT (-74.92459 40.20216)</td>\n",
       "    </tr>\n",
       "  </tbody>\n",
       "</table>\n",
       "</div>"
      ],
      "text/plain": [
       "         Lat        Lon                    geometry\n",
       "0  40.058841 -75.042164  POINT (-75.04216 40.05884)\n",
       "1  40.202162 -74.924594  POINT (-74.92459 40.20216)"
      ]
     },
     "execution_count": 2,
     "metadata": {},
     "output_type": "execute_result"
    }
   ],
   "source": [
    "import pandas as pd\n",
    "from shapely.geometry import Point\n",
    "import pkg_resources\n",
    "from geopandas import GeoDataFrame\n",
    "\n",
    "df = pd.DataFrame({#'zip':[19152,19047],\n",
    "               'Lat':[40.058841,40.202162],\n",
    "               'Lon':[-75.042164,-74.924594]})\n",
    "\n",
    "geometry = [Point(xy) for xy in zip(df.Lon, df.Lat)]\n",
    "\n",
    "\n",
    "\n",
    "gdf = GeoDataFrame(df, geometry=geometry)\n",
    "\n",
    "gdf.to_json()"
   ]
  },
  {
   "cell_type": "code",
   "execution_count": 3,
   "id": "4b4f489b-10ff-46b8-8d20-1ccda0b3f033",
   "metadata": {},
   "outputs": [
    {
     "data": {
      "text/plain": [
       "'{\"type\": \"FeatureCollection\", \"features\": [{\"id\": \"0\", \"type\": \"Feature\", \"properties\": {\"Lat\": 40.058841, \"Lon\": -75.042164}, \"geometry\": {\"type\": \"Point\", \"coordinates\": [-75.042164, 40.058841]}}, {\"id\": \"1\", \"type\": \"Feature\", \"properties\": {\"Lat\": 40.202162, \"Lon\": -74.924594}, \"geometry\": {\"type\": \"Point\", \"coordinates\": [-74.924594, 40.202162]}}]}'"
      ]
     },
     "execution_count": 3,
     "metadata": {},
     "output_type": "execute_result"
    }
   ],
   "source": [
    "gdf.to_json()"
   ]
  },
  {
   "cell_type": "code",
   "execution_count": 28,
   "id": "aebe7284-87ed-440b-80c1-30fd2b18b880",
   "metadata": {},
   "outputs": [
    {
     "data": {
      "text/html": [
       "<div>\n",
       "<style scoped>\n",
       "    .dataframe tbody tr th:only-of-type {\n",
       "        vertical-align: middle;\n",
       "    }\n",
       "\n",
       "    .dataframe tbody tr th {\n",
       "        vertical-align: top;\n",
       "    }\n",
       "\n",
       "    .dataframe thead th {\n",
       "        text-align: right;\n",
       "    }\n",
       "</style>\n",
       "<table border=\"1\" class=\"dataframe\">\n",
       "  <thead>\n",
       "    <tr style=\"text-align: right;\">\n",
       "      <th></th>\n",
       "      <th>Lat</th>\n",
       "      <th>Lon</th>\n",
       "      <th>geometry</th>\n",
       "    </tr>\n",
       "  </thead>\n",
       "  <tbody>\n",
       "    <tr>\n",
       "      <th>0</th>\n",
       "      <td>40.058841</td>\n",
       "      <td>-75.042164</td>\n",
       "      <td>POINT (-75.04216 40.05884)</td>\n",
       "    </tr>\n",
       "    <tr>\n",
       "      <th>1</th>\n",
       "      <td>40.202162</td>\n",
       "      <td>-74.924594</td>\n",
       "      <td>POINT (-74.92459 40.20216)</td>\n",
       "    </tr>\n",
       "  </tbody>\n",
       "</table>\n",
       "</div>"
      ],
      "text/plain": [
       "         Lat        Lon                    geometry\n",
       "0  40.058841 -75.042164  POINT (-75.04216 40.05884)\n",
       "1  40.202162 -74.924594  POINT (-74.92459 40.20216)"
      ]
     },
     "execution_count": 28,
     "metadata": {},
     "output_type": "execute_result"
    }
   ],
   "source": [
    "df"
   ]
  },
  {
   "attachments": {
    "6b67b54e-5c63-43e5-aae9-bc7a9f56fca4.png": {
     "image/png": "[encoded data removed]"
    }
   },
   "cell_type": "markdown",
   "id": "4391bae0-0620-49f4-8005-325d77de57b2",
   "metadata": {},
   "source": [
    "\n",
    "![image.png](attachment:6b67b54e-5c63-43e5-aae9-bc7a9f56fca4.png)!\n",
    "# For making a GeoDataFrame of linestrings\n",
    "https://gis.stackexchange.com/questions/367005/how-can-i-convert-a-linestring-geodataframe-to-a-points-geodataframe-while-retai"
   ]
  },
  {
   "cell_type": "code",
   "execution_count": 33,
   "id": "870b9db1-7f0b-496c-b579-caf589d2de47",
   "metadata": {},
   "outputs": [
    {
     "data": {
      "image/svg+xml": [
       "<svg xmlns=\"http://www.w3.org/2000/svg\" xmlns:xlink=\"http://www.w3.org/1999/xlink\" width=\"100.0\" height=\"100.0\" viewBox=\"-114.31117836 51.17052864 0.0069757199999997965 0.0025887199999985455\" preserveAspectRatio=\"xMinYMin meet\"><g transform=\"matrix(1,0,0,-1,0,102.343646)\"><polyline fill=\"none\" stroke=\"#66cc99\" stroke-width=\"0.00013951439999999594\" points=\"-114.31092,51.172859 -114.31092,51.170787 -114.304461,51.170787 -114.304461,51.172859\" opacity=\"0.8\" /></g></svg>"
      ],
      "text/plain": [
       "<shapely.geometry.linestring.LineString at 0x23dbaedc640>"
      ]
     },
     "execution_count": 33,
     "metadata": {},
     "output_type": "execute_result"
    }
   ],
   "source": [
    "line = [(-114.31092,51.172859),(-114.31092,51.170787),(-114.304461,51.170787),(-114.304461,51.172859)]\n",
    "\n",
    "geo2 = LineString(line)\n",
    "geo2"
   ]
  },
  {
   "cell_type": "code",
   "execution_count": 23,
   "id": "46b81e40-a391-4f3a-b491-0e02e0f494d4",
   "metadata": {},
   "outputs": [
    {
     "data": {
      "image/svg+xml": [
       "<svg xmlns=\"http://www.w3.org/2000/svg\" xmlns:xlink=\"http://www.w3.org/1999/xlink\" width=\"100.0\" height=\"100.0\" viewBox=\"-114.85117835999999 50.630528639999994 1.0869757199999839 1.082588720000011\" preserveAspectRatio=\"xMinYMin meet\"><g transform=\"matrix(1,0,0,-1,0,102.343646)\"><path fill-rule=\"evenodd\" fill=\"#66cc99\" stroke=\"#555555\" stroke-width=\"0.021739514399999677\" opacity=\"0.6\" d=\"M -114.3076905,51.672700344838674 L -114.304461,51.672859 L -114.25545242983522,51.6704513633361 L -114.20691583899193,51.663251640201615 L -114.15931866137277,51.65132916786611 L -114.11311928381745,51.63479876625565 L -114.068762631587,51.61381963217418 L -114.0266758834902,51.58859380615127 L -113.98726435791818,51.559364226681375 L -113.95090760940673,51.52641239059328 L -113.91795577331864,51.49005564208183 L -113.88872619384873,51.45064411650981 L -113.86350036782582,51.408557368413 L -113.84252123374436,51.36420071618255 L -113.8259908321339,51.318001338627234 L -113.81406835979838,51.27040416100807 L -113.8068686366639,51.22186757016478 L -113.804461,51.172859 L -113.804461,51.170787 L -113.8068686366639,51.12177842983522 L -113.81406835979838,51.07324183899193 L -113.8259908321339,51.025644661372766 L -113.84252123374436,50.979445283817455 L -113.86350036782582,50.935088631587 L -113.88872619384873,50.89300188349019 L -113.91795577331864,50.85359035791817 L -113.95090760940673,50.81723360940672 L -113.98726435791818,50.784281773318625 L -114.0266758834902,50.75505219384873 L -114.068762631587,50.72982636782582 L -114.11311928381745,50.70884723374435 L -114.15931866137277,50.69231683213389 L -114.20691583899193,50.680394359798385 L -114.25545242983522,50.6731946366639 L -114.304461,50.670787 L -114.31092,50.670787 L -114.35992857016478,50.6731946366639 L -114.40846516100807,50.680394359798385 L -114.45606233862723,50.69231683213389 L -114.50226171618255,50.70884723374436 L -114.546618368413,50.72982636782582 L -114.5887051165098,50.75505219384873 L -114.62811664208182,50.78428177331863 L -114.66447339059327,50.81723360940673 L -114.69742522668136,50.85359035791817 L -114.72665480615127,50.8930018834902 L -114.75188063217418,50.935088631587 L -114.77285976625564,50.979445283817455 L -114.7893901678661,51.025644661372766 L -114.80131264020162,51.07324183899193 L -114.80851236333609,51.12177842983522 L -114.81092,51.170787 L -114.81092,51.172859 L -114.80851236333609,51.22186757016478 L -114.80131264020162,51.27040416100807 L -114.7893901678661,51.318001338627234 L -114.77285976625564,51.364200716182545 L -114.75188063217418,51.408557368413 L -114.72665480615127,51.45064411650981 L -114.69742522668136,51.49005564208183 L -114.66447339059327,51.52641239059328 L -114.62811664208182,51.559364226681375 L -114.5887051165098,51.58859380615127 L -114.546618368413,51.61381963217418 L -114.50226171618255,51.63479876625565 L -114.45606233862722,51.65132916786611 L -114.40846516100805,51.663251640201615 L -114.35992857016478,51.6704513633361 L -114.31092,51.672859 L -114.3076905,51.672700344838674 z\" /></g></svg>"
      ],
      "text/plain": [
       "<shapely.geometry.polygon.Polygon at 0x23dbaf79a30>"
      ]
     },
     "execution_count": 23,
     "metadata": {},
     "output_type": "execute_result"
    }
   ],
   "source": [
    "geo2.buffer(0.5)"
   ]
  },
  {
   "cell_type": "code",
   "execution_count": 29,
   "id": "3f772645-18cb-406c-9765-e4bc1a1841d9",
   "metadata": {},
   "outputs": [
    {
     "data": {
      "image/svg+xml": [
       "<svg xmlns=\"http://www.w3.org/2000/svg\" xmlns:xlink=\"http://www.w3.org/1999/xlink\" width=\"100.0\" height=\"100.0\" viewBox=\"-0.6599986858544988 -0.6072122813544568 4.319964518071469 3.2672109672089555\" preserveAspectRatio=\"xMinYMin meet\"><g transform=\"matrix(1,0,0,-1,0,2.052786404500042)\"><path fill-rule=\"evenodd\" fill=\"#66cc99\" stroke=\"#555555\" stroke-width=\"0.08639929036142938\" opacity=\"0.6\" d=\"M 0.29289321881345254,1.0 L -0.35355339059327373,1.6464466094067263 L -0.3865052266813704,1.6828033579181796 L -0.4157348061512742,1.7222148834902011 L -0.4409606321741788,1.7643016315870035 L -0.4619397662556444,1.8086582838174576 L -0.4784701678661052,1.8548576613727712 L -0.4903926402016157,1.9024548389919382 L -0.4975923633360987,1.950991429835222 L -0.5,2.000000000000002 L -0.49759236333609824,2.049008570164782 L -0.4903926402016148,2.097545161008066 L -0.4784701678661039,2.145142338627233 L -0.46193976625564276,2.1913417161825466 L -0.44096063217417686,2.2356983684130003 L -0.4157348061512719,2.277785116509802 L -0.3865052266813678,2.3171966420818237 L -0.3535533905932731,2.3535533905932744 L -0.3171966420818222,2.386505226681369 L -0.2777851165098006,2.415734806151273 L -0.23569836841299843,2.4409606321741775 L -0.19134171618254464,2.4619397662556435 L -0.14514233862723108,2.4784701678661043 L -0.09754516100806421,2.490392640201615 L -0.049008570164780545,2.4975923633360986 L -4.134730398713788e-16,2.5 L 2.0,2.5 L 2.0490085701647804,2.4975923633360986 L 2.097545161008064,2.490392640201615 L 2.145142338627231,2.4784701678661043 L 2.191341716182545,2.4619397662556435 L 2.235698368412999,2.4409606321741775 L 2.277785116509801,2.4157348061512725 L 2.317196642081823,2.3865052266813684 L 2.353553390593274,2.353553390593274 L 3.353553390593274,1.3535533905932737 L 3.3869593598581984,1.3166424700164734 L 3.416529207756272,1.2765925145153654 L 3.441969793619239,1.2338005592982344 L 3.4630289122153934,1.1886908223858001 L 3.4794977939859795,1.1417104991261375 L 3.491213174682082,1.093325328923881 L 3.49805891388465,1.0440149781329329 L 3.4999671463624717,0.9942682848843708 L 3.496918954854096,0.9445784129899474 L 3.488944557604095,0.8954379629629573 L 3.476123008794514,0.847334088623363 L 3.4585814148412894,0.8007436676987122 L 3.436493674324875,0.7561285742970899 L 3.410078754046775,0.713931100118443 L 3.3795985183022994,0.674569569796095 L 3.3453551328890363,0.6384341938357612 L 3.3076880695864137,0.6058832002639493 L 3.266970740802428,0.5772392833346471 L 3.223606797749979,0.5527864045000421 L 1.223606797749979,-0.4472135954999579 L 0.9023689270621824,0.19526214587563506 L 0.35355339059327373,-0.35355339059327373 L -0.35355339059327373,0.35355339059327373 L 0.29289321881345254,1.0 z M 1.4503736709046264,0.7842038298272606 L 2.1559174829590035,1.136975735854449 L 1.7928932188134525,1.5 L 1.2071067811865475,1.5 L 1.3535533905932737,1.3535533905932737 L 1.3865052266813684,1.3171966420818229 L 1.4157348061512727,1.277785116509801 L 1.4409606321741775,1.2356983684129987 L 1.4619397662556435,1.1913417161825448 L 1.4784701678661043,1.1451423386272312 L 1.4903926402016152,1.0975451610080642 L 1.4975923633360986,1.0490085701647802 L 1.5,1.0 L 1.4975923633360986,0.9509914298352197 L 1.4903926402016152,0.9024548389919359 L 1.4784701678661045,0.8548576613727689 L 1.4619397662556435,0.8086582838174551 L 1.4503736709046264,0.7842038298272606 z\" /></g></svg>"
      ],
      "text/plain": [
       "<shapely.geometry.polygon.Polygon at 0x23dbb826670>"
      ]
     },
     "execution_count": 29,
     "metadata": {},
     "output_type": "execute_result"
    }
   ],
   "source": [
    "from shapely.geometry import LineString\n",
    "line = LineString([(0, 0), (1, 1), (0, 2), (2, 2), (3, 1), (1, 0)])\n",
    "line2 = line.buffer(0.5, cap_style = 2)\n",
    "\n"
   ]
  },
  {
   "cell_type": "code",
   "execution_count": 44,
   "id": "ff19aea8-512e-4ea6-b6cb-183df91ff121",
   "metadata": {},
   "outputs": [
    {
     "data": {
      "image/svg+xml": [
       "<svg xmlns=\"http://www.w3.org/2000/svg\" xmlns:xlink=\"http://www.w3.org/1999/xlink\" width=\"100.0\" height=\"100.0\" viewBox=\"0.5781623381592643 -0.4218376618407356 1.8436753236814716 1.8436753236814711\" preserveAspectRatio=\"xMinYMin meet\"><g transform=\"matrix(1,0,0,-1,0,1.0)\"><path fill-rule=\"evenodd\" fill=\"#66cc99\" stroke=\"#555555\" stroke-width=\"0.036873506473629435\" opacity=\"0.6\" d=\"M 1.3535533905932737,-0.35355339059327373 L 0.6464466094067263,0.35355339059327373 L 1.6464466094067263,1.3535533905932737 L 2.353553390593274,0.6464466094067263 L 1.3535533905932737,-0.35355339059327373 z\" /></g></svg>"
      ],
      "text/plain": [
       "<shapely.geometry.polygon.Polygon at 0x23dbae6e880>"
      ]
     },
     "execution_count": 44,
     "metadata": {},
     "output_type": "execute_result"
    }
   ],
   "source": [
    "line = LineString([(2, 1), (1, 0)])\n",
    "line3 = line.buffer(0.5, cap_style = 2)\n",
    "line3"
   ]
  },
  {
   "cell_type": "code",
   "execution_count": 51,
   "id": "828fc44f-10cb-43e7-a678-f630da470fa6",
   "metadata": {},
   "outputs": [
    {
     "data": {
      "text/plain": [
       "1.4142135623730951"
      ]
     },
     "execution_count": 51,
     "metadata": {},
     "output_type": "execute_result"
    }
   ],
   "source": [
    "line3.area"
   ]
  },
  {
   "cell_type": "code",
   "execution_count": 49,
   "id": "ed8130d6-68b2-4c81-9856-f0dee45590a6",
   "metadata": {},
   "outputs": [
    {
     "data": {
      "image/svg+xml": [
       "<svg xmlns=\"http://www.w3.org/2000/svg\" xmlns:xlink=\"http://www.w3.org/1999/xlink\" width=\"100.0\" height=\"100.0\" viewBox=\"0.7081089310025591 -0.4218376618407356 1.7137287308381768 1.8436753236814711\" preserveAspectRatio=\"xMinYMin meet\"><g transform=\"matrix(1,0,0,-1,0,1.0)\"><path fill-rule=\"evenodd\" fill=\"#66cc99\" stroke=\"#555555\" stroke-width=\"0.03687350647362942\" opacity=\"0.6\" d=\"M 1.3535533905932737,-0.35355339059327373 L 1.0,0.0 L 0.7763932022500211,0.4472135954999579 L 1.6967240747163872,0.907379031733141 L 1.324385206589042,1.0314919877755895 L 1.6464466094067263,1.3535533905932737 L 2.353553390593274,0.6464466094067263 L 1.3535533905932737,-0.35355339059327373 z\" /></g></svg>"
      ],
      "text/plain": [
       "<shapely.geometry.polygon.Polygon at 0x23dbcb3ac40>"
      ]
     },
     "execution_count": 49,
     "metadata": {},
     "output_type": "execute_result"
    }
   ],
   "source": [
    "from osgeo import ogr\n",
    "\n",
    "intersection = line3.intersection(line2)\n",
    "intersection"
   ]
  },
  {
   "cell_type": "code",
   "execution_count": 50,
   "id": "cf502ce7-3cbe-4502-8409-21719bb4d8c0",
   "metadata": {},
   "outputs": [
    {
     "data": {
      "text/plain": [
       "1.2196038887550529"
      ]
     },
     "execution_count": 50,
     "metadata": {},
     "output_type": "execute_result"
    }
   ],
   "source": [
    "intersection.area"
   ]
  },
  {
   "cell_type": "code",
   "execution_count": 30,
   "id": "94c056f6-2e01-46d0-be5a-e8be7149d2d6",
   "metadata": {},
   "outputs": [
    {
     "data": {
      "image/svg+xml": [
       "<svg xmlns=\"http://www.w3.org/2000/svg\" xmlns:xlink=\"http://www.w3.org/1999/xlink\" width=\"100.0\" height=\"100.0\" viewBox=\"-0.12 -0.12 3.24 2.24\" preserveAspectRatio=\"xMinYMin meet\"><g transform=\"matrix(1,0,0,-1,0,2.0)\"><polyline fill=\"none\" stroke=\"#66cc99\" stroke-width=\"0.06480000000000001\" points=\"0.0,0.0 1.0,1.0 0.0,2.0 2.0,2.0 3.0,1.0 1.0,0.0\" opacity=\"0.8\" /></g></svg>"
      ],
      "text/plain": [
       "<shapely.geometry.linestring.LineString at 0x23dbb826520>"
      ]
     },
     "execution_count": 30,
     "metadata": {},
     "output_type": "execute_result"
    }
   ],
   "source": [
    "line"
   ]
  },
  {
   "cell_type": "code",
   "execution_count": 31,
   "id": "a6071c9d-5dcf-4f1e-b347-630360007eff",
   "metadata": {},
   "outputs": [
    {
     "data": {
      "image/png": "[encoded data removed]",
      "text/plain": [
       "<Figure size 432x288 with 1 Axes>"
      ]
     },
     "metadata": {
      "needs_background": "light"
     },
     "output_type": "display_data"
    }
   ],
   "source": [
    "import shapely.geometry as sg\n",
    "import shapely.ops as so\n",
    "import matplotlib.pyplot as plt\n",
    "\n",
    "r1 = sg.Polygon([(0,0),(0,1),(1,1),(1,0),(0,0)])\n",
    "r2 = sg.box(0.5,0.5,1.5,1.5)\n",
    "r3 = sg.box(4,4,5,5)\n",
    "\n",
    "new_shape = so.cascaded_union([r1, r2, r3])\n",
    "fig, axs = plt.subplots()\n",
    "axs.set_aspect('equal', 'datalim')\n",
    "\n",
    "for geom in new_shape.geoms:    \n",
    "    xs, ys = geom.exterior.xy    \n",
    "    axs.fill(xs, ys, alpha=0.5, fc='r', ec='none')\n",
    "\n",
    "plt.show()"
   ]
  },
  {
   "cell_type": "code",
   "execution_count": 14,
   "id": "399020bb-21ad-4b23-b33c-e2ffe27c86e0",
   "metadata": {},
   "outputs": [
    {
     "data": {
      "text/html": [
       "<div>\n",
       "<style scoped>\n",
       "    .dataframe tbody tr th:only-of-type {\n",
       "        vertical-align: middle;\n",
       "    }\n",
       "\n",
       "    .dataframe tbody tr th {\n",
       "        vertical-align: top;\n",
       "    }\n",
       "\n",
       "    .dataframe thead th {\n",
       "        text-align: right;\n",
       "    }\n",
       "</style>\n",
       "<table border=\"1\" class=\"dataframe\">\n",
       "  <thead>\n",
       "    <tr style=\"text-align: right;\">\n",
       "      <th></th>\n",
       "      <th>myid</th>\n",
       "      <th>myorder</th>\n",
       "      <th>lat</th>\n",
       "      <th>long</th>\n",
       "      <th>geometry</th>\n",
       "    </tr>\n",
       "  </thead>\n",
       "  <tbody>\n",
       "    <tr>\n",
       "      <th>0</th>\n",
       "      <td>1</td>\n",
       "      <td>1</td>\n",
       "      <td>36.42</td>\n",
       "      <td>-118.11</td>\n",
       "      <td>POINT (-118.11000 36.42000)</td>\n",
       "    </tr>\n",
       "    <tr>\n",
       "      <th>1</th>\n",
       "      <td>1</td>\n",
       "      <td>2</td>\n",
       "      <td>36.40</td>\n",
       "      <td>-118.12</td>\n",
       "      <td>POINT (-118.12000 36.40000)</td>\n",
       "    </tr>\n",
       "    <tr>\n",
       "      <th>2</th>\n",
       "      <td>1</td>\n",
       "      <td>3</td>\n",
       "      <td>36.32</td>\n",
       "      <td>-118.07</td>\n",
       "      <td>POINT (-118.07000 36.32000)</td>\n",
       "    </tr>\n",
       "    <tr>\n",
       "      <th>3</th>\n",
       "      <td>2</td>\n",
       "      <td>1</td>\n",
       "      <td>36.28</td>\n",
       "      <td>-117.95</td>\n",
       "      <td>POINT (-117.95000 36.28000)</td>\n",
       "    </tr>\n",
       "    <tr>\n",
       "      <th>4</th>\n",
       "      <td>2</td>\n",
       "      <td>2</td>\n",
       "      <td>36.17</td>\n",
       "      <td>-117.95</td>\n",
       "      <td>POINT (-117.95000 36.17000)</td>\n",
       "    </tr>\n",
       "  </tbody>\n",
       "</table>\n",
       "</div>"
      ],
      "text/plain": [
       "   myid  myorder    lat    long                     geometry\n",
       "0     1        1  36.42 -118.11  POINT (-118.11000 36.42000)\n",
       "1     1        2  36.40 -118.12  POINT (-118.12000 36.40000)\n",
       "2     1        3  36.32 -118.07  POINT (-118.07000 36.32000)\n",
       "3     2        1  36.28 -117.95  POINT (-117.95000 36.28000)\n",
       "4     2        2  36.17 -117.95  POINT (-117.95000 36.17000)"
      ]
     },
     "metadata": {},
     "output_type": "display_data"
    },
    {
     "data": {
      "text/html": [
       "<div>\n",
       "<style scoped>\n",
       "    .dataframe tbody tr th:only-of-type {\n",
       "        vertical-align: middle;\n",
       "    }\n",
       "\n",
       "    .dataframe tbody tr th {\n",
       "        vertical-align: top;\n",
       "    }\n",
       "\n",
       "    .dataframe thead th {\n",
       "        text-align: right;\n",
       "    }\n",
       "</style>\n",
       "<table border=\"1\" class=\"dataframe\">\n",
       "  <thead>\n",
       "    <tr style=\"text-align: right;\">\n",
       "      <th></th>\n",
       "      <th>geometry</th>\n",
       "    </tr>\n",
       "    <tr>\n",
       "      <th>myid</th>\n",
       "      <th></th>\n",
       "    </tr>\n",
       "  </thead>\n",
       "  <tbody>\n",
       "    <tr>\n",
       "      <th>1</th>\n",
       "      <td>LINESTRING (-118.11000 36.42000, -118.12000 36...</td>\n",
       "    </tr>\n",
       "    <tr>\n",
       "      <th>2</th>\n",
       "      <td>LINESTRING (-117.95000 36.28000, -117.95000 36...</td>\n",
       "    </tr>\n",
       "  </tbody>\n",
       "</table>\n",
       "</div>"
      ],
      "text/plain": [
       "                                               geometry\n",
       "myid                                                   \n",
       "1     LINESTRING (-118.11000 36.42000, -118.12000 36...\n",
       "2     LINESTRING (-117.95000 36.28000, -117.95000 36..."
      ]
     },
     "metadata": {},
     "output_type": "display_data"
    },
    {
     "name": "stderr",
     "output_type": "stream",
     "text": [
      "C:\\Users\\Jan Erik Naess\\AppData\\Local\\Temp\\ipykernel_15600\\2592663133.py:23: UserWarning: FixedFormatter should only be used together with FixedLocator\n",
      "  ax.set_xticklabels(ax.get_xticklabels(), rotation=90);\n"
     ]
    },
    {
     "data": {
      "image/png": "[encoded data removed]",
      "text/plain": [
       "<Figure size 432x288 with 1 Axes>"
      ]
     },
     "metadata": {
      "needs_background": "light"
     },
     "output_type": "display_data"
    }
   ],
   "source": [
    "%matplotlib inline\n",
    "import matplotlib.pyplot as plt\n",
    "import pandas as pd\n",
    "import geopandas as gpd\n",
    "from shapely.geometry import Point\n",
    "from shapely.geometry import LineString\n",
    "import pyproj\n",
    "from pyproj import CRS\n",
    "\n",
    "myid = [1, 1, 1, 2, 2]\n",
    "myorder = [1, 2, 3, 1, 2]\n",
    "lat = [36.42, 36.4, 36.32, 36.28, 36.17]\n",
    "long = [-118.11, -118.12, -118.07, -117.95, -117.95]\n",
    "df = pd.DataFrame(list(zip(myid, myorder, lat, long)), columns =['myid', 'myorder', 'lat', 'long']) \n",
    "gdf_pt = gpd.GeoDataFrame(df, geometry=gpd.points_from_xy(df['long'], df['lat']))\n",
    "display(gdf_pt)\n",
    "gdf_line = gdf_pt.sort_values(by=['myorder']).groupby(['myid'])['geometry'].apply(lambda x: LineString(x.tolist()))\n",
    "gdf_line = gpd.GeoDataFrame(gdf_line, geometry='geometry')\n",
    "#gdf_line.crs = \"EPSG:4326\"\n",
    "display(gdf_line)\n",
    "ax = gdf_line.plot();\n",
    "ax.set_aspect('equal')\n",
    "ax.set_xticklabels(ax.get_xticklabels(), rotation=90);"
   ]
  },
  {
   "cell_type": "code",
   "execution_count": 16,
   "id": "d8e5c2a3-c34a-4a60-a61d-1f684b9afcc9",
   "metadata": {},
   "outputs": [
    {
     "data": {
      "text/plain": [
       "<AxesSubplot:>"
      ]
     },
     "execution_count": 16,
     "metadata": {},
     "output_type": "execute_result"
    },
    {
     "data": {
      "image/png": "[encoded data removed]",
      "text/plain": [
       "<Figure size 432x288 with 1 Axes>"
      ]
     },
     "metadata": {
      "needs_background": "light"
     },
     "output_type": "display_data"
    }
   ],
   "source": [
    "gdf_line.buffer(.05,cap_style=2)"
   ]
  },
  {
   "cell_type": "code",
   "execution_count": 12,
   "id": "ca5b79fa-8f6e-44e3-ae76-73ce443dde1c",
   "metadata": {},
   "outputs": [
    {
     "data": {
      "text/plain": [
       "array([1., 1., 1., 1., 1.])"
      ]
     },
     "execution_count": 12,
     "metadata": {},
     "output_type": "execute_result"
    }
   ],
   "source": [
    "import numpy as np\n",
    "a = np.empty((0))\n",
    "b = np.ones((5))\n",
    "np.concatenate((a,b))"
   ]
  },
  {
   "cell_type": "code",
   "execution_count": 4,
   "id": "dcb46d6f-d2c6-448f-bfb2-f789a6444d63",
   "metadata": {},
   "outputs": [
    {
     "data": {
      "text/plain": [
       "[1, 2, 3, 4]"
      ]
     },
     "execution_count": 4,
     "metadata": {},
     "output_type": "execute_result"
    }
   ],
   "source": [
    "[1,2]+[3,4]"
   ]
  },
  {
   "cell_type": "code",
   "execution_count": 13,
   "id": "80db4012-9522-48c9-8976-124be18560f5",
   "metadata": {},
   "outputs": [
    {
     "name": "stdout",
     "output_type": "stream",
     "text": [
      "1\n",
      "2\n",
      "3\n",
      "4\n",
      "5\n",
      "6\n",
      "7\n",
      "8\n",
      "9\n"
     ]
    }
   ],
   "source": [
    "for i in range(1,10):\n",
    "    print(i)"
   ]
  },
  {
   "cell_type": "code",
   "execution_count": 11,
   "id": "bdbf4d89-d2a3-4d43-bc50-532d7b3bb8ee",
   "metadata": {},
   "outputs": [
    {
     "name": "stdout",
     "output_type": "stream",
     "text": [
      "<class 'list'>\n"
     ]
    },
    {
     "data": {
      "image/png": "[encoded data removed]",
      "text/plain": [
       "<Figure size 432x288 with 1 Axes>"
      ]
     },
     "metadata": {
      "needs_background": "light"
     },
     "output_type": "display_data"
    }
   ],
   "source": [
    "import shapely.geometry as sg\n",
    "import shapely.ops as so\n",
    "import matplotlib.pyplot as plt\n",
    "import json\n",
    "\n",
    "test = '[[39.35129, -81.320801], [42.098222, -81.320801], [42.098222, -75.52002], [39.35129, -75.52002]]'\n",
    "res = json.loads(test)\n",
    "print(type(res))\n",
    "\n",
    "coords = []\n",
    "\n",
    "for point in res:\n",
    "    coords.append((point[1],point[0]))\n",
    "\n",
    "tuple(coords)\n",
    "\n",
    "r1 = sg.Polygon(coords)\n",
    "r2 = sg.box(0.5,0.5,1.5,1.5)\n",
    "r3 = sg.box(4,4,5,5)\n",
    "\n",
    "new_shape = so.cascaded_union([r1, r2, r3])\n",
    "fig, axs = plt.subplots()\n",
    "axs.set_aspect('equal', 'datalim')\n",
    "\n",
    "for geom in new_shape.geoms:    \n",
    "    xs, ys = geom.exterior.xy    \n",
    "    axs.fill(xs, ys, alpha=0.5, fc='r', ec='none')\n",
    "\n",
    "plt.show()"
   ]
  },
  {
   "cell_type": "code",
   "execution_count": 12,
   "id": "a83671ec-4e3a-41f6-bce6-56bde4cc7069",
   "metadata": {},
   "outputs": [
    {
     "name": "stdout",
     "output_type": "stream",
     "text": [
      "POLYGON ((-81.320801 39.35129, -81.320801 42.098222, -75.52002 42.098222, -75.52002 39.35129, -81.320801 39.35129))\n"
     ]
    }
   ],
   "source": [
    "import geopandas as gpd\n",
    "\n",
    "#gdf = gpd.GeoDataFrame(r1, geometry='geometry')\n",
    "#gdf\n",
    "\n",
    "print(r1)"
   ]
  },
  {
   "cell_type": "code",
   "execution_count": 14,
   "id": "9695dfe8-9b90-4c35-8f17-43fd7e70c2ba",
   "metadata": {},
   "outputs": [
    {
     "data": {
      "text/plain": [
       "((-81.320801, 39.35129),\n",
       " (-81.320801, 42.098222),\n",
       " (-75.52002, 42.098222),\n",
       " (-75.52002, 39.35129))"
      ]
     },
     "execution_count": 14,
     "metadata": {},
     "output_type": "execute_result"
    }
   ],
   "source": [
    "tuple(coords)"
   ]
  },
  {
   "cell_type": "code",
   "execution_count": 19,
   "id": "387a53f5-09c0-4999-a92c-ba5cdf36adb6",
   "metadata": {},
   "outputs": [
    {
     "data": {
      "text/plain": [
       "[('40.00857', '-75.143738'),\n",
       " ('40.155749', '-75.143738'),\n",
       " ('40.155749', '-74.590302'),\n",
       " ('40.00857', '-74.590302'),\n",
       " ('40.00857', '-75.143738')]"
      ]
     },
     "execution_count": 19,
     "metadata": {},
     "output_type": "execute_result"
    }
   ],
   "source": [
    "test2 = '-75.143738,40.00857,-75.143738,40.155749,-74.590302,40.155749,-74.590302,40.00857,-75.143738,40.00857'\n",
    "res = test2.split(',')\n",
    "\n",
    "coords = []\n",
    "for i in range(0,len(res),2):\n",
    "    coords.append((res[i+1],res[i]))\n",
    "    \n",
    "coords"
   ]
  },
  {
   "cell_type": "code",
   "execution_count": null,
   "id": "769f58f5-6a62-42ce-993d-e8d526ade1b3",
   "metadata": {},
   "outputs": [],
   "source": []
  }
 ],
 "metadata": {
  "kernelspec": {
   "display_name": "Python 3 (ipykernel)",
   "language": "python",
   "name": "python3"
  },
  "language_info": {
   "codemirror_mode": {
    "name": "ipython",
    "version": 3
   },
   "file_extension": ".py",
   "mimetype": "text/x-python",
   "name": "python",
   "nbconvert_exporter": "python",
   "pygments_lexer": "ipython3",
   "version": "3.8.12"
  }
 },
 "nbformat": 4,
 "nbformat_minor": 5
}
